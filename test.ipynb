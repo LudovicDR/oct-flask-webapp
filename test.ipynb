{
 "cells": [
  {
   "cell_type": "code",
   "execution_count": 4,
   "metadata": {},
   "outputs": [
    {
     "name": "stdout",
     "output_type": "stream",
     "text": [
      "none\n",
      "ab29b90ba5c9308311fe072687e999ad4cb687130e94b5fc\n"
     ]
    }
   ],
   "source": [
    "import os\n",
    "\n",
    "test = os.getenv(\"LDR_SECRET_KEY\") or \"none\"\n",
    "test2 = os.environ.get(\"LDR_SECRET_KEY\")\n",
    "print(test)\n",
    "print(test2)"
   ]
  }
 ],
 "metadata": {
  "kernelspec": {
   "display_name": "Ludo-project",
   "language": "python",
   "name": "python3"
  },
  "language_info": {
   "codemirror_mode": {
    "name": "ipython",
    "version": 3
   },
   "file_extension": ".py",
   "mimetype": "text/x-python",
   "name": "python",
   "nbconvert_exporter": "python",
   "pygments_lexer": "ipython3",
   "version": "3.12.1"
  }
 },
 "nbformat": 4,
 "nbformat_minor": 2
}
